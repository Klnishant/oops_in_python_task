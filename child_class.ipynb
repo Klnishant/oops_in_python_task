{
 "cells": [
  {
   "cell_type": "code",
   "execution_count": 1,
   "id": "511f6b73-be6b-4688-967d-0227d5c0eb70",
   "metadata": {},
   "outputs": [],
   "source": [
    "class Vehicle:\n",
    "    def __init__(self, name_of_vehicle, max_speed, average_of_vehicle):\n",
    "        self.name_of_vehicle = name_of_vehicle\n",
    "        self.max_speed = max_speed\n",
    "        self.average_of_vehicle = average_of_vehicle\n"
   ]
  },
  {
   "cell_type": "code",
   "execution_count": 2,
   "id": "0fb7fb89-d2b7-4084-874b-e09303566596",
   "metadata": {},
   "outputs": [],
   "source": [
    "class Car(Vehicle):\n",
    "    def seating_capacity(self, capacity):\n",
    "        return \"Name of vehicle: \" + self.name_of_vehicle + \", Seating capacity: \" + str(capacity)\n"
   ]
  },
  {
   "cell_type": "code",
   "execution_count": 3,
   "id": "29d7191d-12ee-42d8-88d2-cb90528bdf49",
   "metadata": {},
   "outputs": [
    {
     "name": "stdout",
     "output_type": "stream",
     "text": [
      "Name of vehicle: Car, Seating capacity: 4\n"
     ]
    }
   ],
   "source": [
    "car = Car(\"Car\", 200, 20)\n",
    "print(car.seating_capacity(4))\n"
   ]
  },
  {
   "cell_type": "code",
   "execution_count": null,
   "id": "89e81618-c0e8-4e6a-bda5-bd054508b567",
   "metadata": {},
   "outputs": [],
   "source": []
  }
 ],
 "metadata": {
  "kernelspec": {
   "display_name": "Python 3 (ipykernel)",
   "language": "python",
   "name": "python3"
  },
  "language_info": {
   "codemirror_mode": {
    "name": "ipython",
    "version": 3
   },
   "file_extension": ".py",
   "mimetype": "text/x-python",
   "name": "python",
   "nbconvert_exporter": "python",
   "pygments_lexer": "ipython3",
   "version": "3.10.8"
  }
 },
 "nbformat": 4,
 "nbformat_minor": 5
}
