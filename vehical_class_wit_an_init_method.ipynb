{
 "cells": [
  {
   "cell_type": "code",
   "execution_count": 8,
   "id": "bbb2b8fe-e842-4d4f-93d7-2073ceb5c50a",
   "metadata": {},
   "outputs": [],
   "source": [
    "class vehical :\n",
    "    def __init__(self,name_of_vehical,max_speed,average_of_vehical) :\n",
    "        self.name_of_vehical = name_of_vehical\n",
    "        self.max_speed = max_speed\n",
    "        self.average_of_vehical = average_of_vehical\n",
    "    def disp(self):\n",
    "        print(self.name_of_vehical)\n",
    "        print(self.max_speed)\n",
    "        print(self.average_of_vehical)"
   ]
  },
  {
   "cell_type": "code",
   "execution_count": 9,
   "id": "2f6daff6-d44b-4218-9153-2d634e82fcb2",
   "metadata": {},
   "outputs": [
    {
     "name": "stdout",
     "output_type": "stream",
     "text": [
      "tyota\n",
      "150\n",
      "20\n"
     ]
    }
   ],
   "source": [
    "car = vehical(\"tyota\",150,20)\n",
    "car.disp()"
   ]
  },
  {
   "cell_type": "code",
   "execution_count": null,
   "id": "37977dc9-d98a-45c5-bffb-ee90afab9b72",
   "metadata": {},
   "outputs": [],
   "source": []
  }
 ],
 "metadata": {
  "kernelspec": {
   "display_name": "Python 3 (ipykernel)",
   "language": "python",
   "name": "python3"
  },
  "language_info": {
   "codemirror_mode": {
    "name": "ipython",
    "version": 3
   },
   "file_extension": ".py",
   "mimetype": "text/x-python",
   "name": "python",
   "nbconvert_exporter": "python",
   "pygments_lexer": "ipython3",
   "version": "3.10.8"
  }
 },
 "nbformat": 4,
 "nbformat_minor": 5
}
